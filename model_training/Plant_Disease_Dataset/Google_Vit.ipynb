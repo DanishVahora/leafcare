{
 "cells": [
  {
   "cell_type": "code",
   "execution_count": 3,
   "id": "919a9595-9da4-4d3c-b261-c88bd277a4ea",
   "metadata": {},
   "outputs": [
    {
     "name": "stdout",
     "output_type": "stream",
     "text": [
      "Danish\n"
     ]
    }
   ],
   "source": [
    "\n",
    "## 1. Install Required Packages\n",
    "\n",
    "!pip install -q transformers datasets timm safetensors\n",
    "!pip install -q ipywidgets \n",
    "\n",
    "print(\"Danish\")"
   ]
  },
  {
   "cell_type": "code",
   "execution_count": 4,
   "id": "17b94ede-2264-4aba-b7a0-bd1b99b3e6dd",
   "metadata": {},
   "outputs": [
    {
     "name": "stdout",
     "output_type": "stream",
     "text": [
      "Danish\n"
     ]
    }
   ],
   "source": [
    "\n",
    "## 2. Import Libraries\n",
    "\n",
    "import os\n",
    "import torch\n",
    "import requests\n",
    "from PIL import Image\n",
    "from io import BytesIO\n",
    "from tqdm.auto import tqdm\n",
    "import torchvision.transforms as transforms\n",
    "from torch.utils.data import Dataset, DataLoader\n",
    "from transformers import ViTFeatureExtractor, ViTForImageClassification\n",
    "print(\"Danish\")"
   ]
  },
  {
   "cell_type": "code",
   "execution_count": 11,
   "id": "d8cdb386-4163-4647-b460-0a0cc4bd9fde",
   "metadata": {},
   "outputs": [
    {
     "name": "stdout",
     "output_type": "stream",
     "text": [
      "Found 40 classes: ['.DS_Store', 'Apple___Apple_scab', 'Apple___Black_rot', 'Apple___Cedar_apple_rust', 'Apple___healthy', 'Blueberry___healthy', 'Cherry_(including_sour)___Powdery_mildew', 'Cherry_(including_sour)___healthy', 'Corn_(maize)___Cercospora_leaf_spot Gray_leaf_spot', 'Corn_(maize)___Common_rust_', 'Corn_(maize)___Northern_Leaf_Blight', 'Corn_(maize)___healthy', 'Grape___Black_rot', 'Grape___Esca_(Black_Measles)', 'Grape___Leaf_blight_(Isariopsis_Leaf_Spot)', 'Grape___healthy', 'Orange___Haunglongbing_(Citrus_greening)', 'Peach___Bacterial_spot', 'Peach___healthy', 'Pepper,_bell___Bacterial_spot', 'Pepper,_bell___healthy', 'Potato___Early_blight', 'Potato___Late_blight', 'Potato___healthy', 'Random___image', 'Raspberry___healthy', 'Soybean___healthy', 'Squash___Powdery_mildew', 'Strawberry___Leaf_scorch', 'Strawberry___healthy', 'Tomato___Bacterial_spot', 'Tomato___Early_blight', 'Tomato___Late_blight', 'Tomato___Leaf_Mold', 'Tomato___Septoria_leaf_spot', 'Tomato___Spider_mites Two-spotted_spider_mite', 'Tomato___Target_Spot', 'Tomato___Tomato_Yellow_Leaf_Curl_Virus', 'Tomato___Tomato_mosaic_virus', 'Tomato___healthy']\n",
      "Danish\n"
     ]
    }
   ],
   "source": [
    "## 3. Dataset Configuration\n",
    "\n",
    "# %%\n",
    "# Update this path to your local dataset location\n",
    "DATASET_ROOT = \"./Plant_Disease_Dataset\"\n",
    "TRAIN_PATH = \"train\"\n",
    "\n",
    "# Get classes from train directory (assuming consistent classes across splits)\n",
    "CLASSES = sorted(os.listdir(TRAIN_PATH))\n",
    "NUM_CLASSES = len(CLASSES)\n",
    "\n",
    "print(f\"Found {NUM_CLASSES} classes: {CLASSES}\")\n",
    "print(\"Danish\")"
   ]
  },
  {
   "cell_type": "code",
   "execution_count": 16,
   "id": "b6d40daf-cc54-4748-88e4-a768307cbd6b",
   "metadata": {},
   "outputs": [],
   "source": [
    "## 4. Define Data Pipeline\n",
    "\n",
    "# %%\n",
    "# Initialize feature extractor\n",
    "feature_extractor = ViTFeatureExtractor.from_pretrained(\"google/vit-base-patch16-224-in21k\")\n",
    "\n",
    "# Define transformations\n",
    "transform = transforms.Compose([\n",
    "    transforms.Resize((224, 224)),\n",
    "    transforms.ToTensor(),\n",
    "    transforms.Normalize(\n",
    "        mean=feature_extractor.image_mean,\n",
    "        std=feature_extractor.image_std\n",
    "    )\n",
    "])\n",
    "\n",
    "# Custom Dataset Class\n",
    "class PlantDiseaseDataset(Dataset):\n",
    "    def __init__(self, root_dir, transform=None):\n",
    "        self.root_dir = root_dir\n",
    "        self.transform = transform\n",
    "        self.samples = []\n",
    "        \n",
    "        for class_idx, class_name in enumerate(CLASSES):\n",
    "            class_path = os.path.join(root_dir, class_name)\n",
    "            if os.path.isdir(class_path):\n",
    "                for img_name in os.listdir(class_path):\n",
    "                    self.samples.append((\n",
    "                        os.path.join(class_path, img_name),\n",
    "                        class_idx\n",
    "                    ))\n",
    "\n",
    "    def __len__(self):\n",
    "        return len(self.samples)\n",
    "\n",
    "    def __getitem__(self, idx):\n",
    "        img_path, label = self.samples[idx]\n",
    "        image = Image.open(img_path).convert(\"RGB\")\n",
    "        if self.transform:\n",
    "            image = self.transform(image)\n",
    "        return image, torch.tensor(label)\n"
   ]
  },
  {
   "cell_type": "code",
   "execution_count": 13,
   "id": "f925d83b-e9d1-4c68-83d5-004e5b0e08c8",
   "metadata": {},
   "outputs": [
    {
     "name": "stderr",
     "output_type": "stream",
     "text": [
      "Some weights of ViTForImageClassification were not initialized from the model checkpoint at google/vit-base-patch16-224-in21k and are newly initialized: ['classifier.bias', 'classifier.weight']\n",
      "You should probably TRAIN this model on a down-stream task to be able to use it for predictions and inference.\n"
     ]
    },
    {
     "name": "stdout",
     "output_type": "stream",
     "text": [
      "danish\n"
     ]
    }
   ],
   "source": [
    "## 6. Initialize Model\n",
    "\n",
    "# %%\n",
    "device = torch.device(\"cuda\" if torch.cuda.is_available() else \"cpu\")\n",
    "\n",
    "model = ViTForImageClassification.from_pretrained(\n",
    "    \"google/vit-base-patch16-224-in21k\",\n",
    "    num_labels=NUM_CLASSES,\n",
    "    id2label={str(i): CLASSES[i] for i in range(NUM_CLASSES)},\n",
    "    label2id={cls_name: i for i, cls_name in enumerate(CLASSES)}\n",
    ").to(device)\n",
    "print (\"danish\")"
   ]
  },
  {
   "cell_type": "code",
   "execution_count": 14,
   "id": "69cd7750-9ec5-4ef5-90e8-016889db79f7",
   "metadata": {},
   "outputs": [],
   "source": [
    "## 7. Training Configuration\n",
    "\n",
    "# %%\n",
    "# Training parameters\n",
    "EPOCHS = 4\n",
    "LEARNING_RATE = 5e-5\n",
    "\n",
    "# Initialize optimizer and loss function\n",
    "optimizer = torch.optim.AdamW(model.parameters(), lr=LEARNING_RATE)\n",
    "criterion = torch.nn.CrossEntropyLoss()\n"
   ]
  },
  {
   "cell_type": "code",
   "execution_count": 15,
   "id": "fb19d9fe-5a58-4f2e-8271-143318c46f6b",
   "metadata": {},
   "outputs": [
    {
     "ename": "NameError",
     "evalue": "name 'train_loader' is not defined",
     "output_type": "error",
     "traceback": [
      "\u001b[1;31m---------------------------------------------------------------------------\u001b[0m",
      "\u001b[1;31mNameError\u001b[0m                                 Traceback (most recent call last)",
      "Cell \u001b[1;32mIn[15], line 30\u001b[0m\n\u001b[0;32m     26\u001b[0m \u001b[38;5;66;03m# %%\u001b[39;00m\n\u001b[0;32m     27\u001b[0m \u001b[38;5;66;03m# Training execution\u001b[39;00m\n\u001b[0;32m     28\u001b[0m \u001b[38;5;28;01mfor\u001b[39;00m epoch \u001b[38;5;129;01min\u001b[39;00m \u001b[38;5;28mrange\u001b[39m(EPOCHS):\n\u001b[0;32m     29\u001b[0m     train_loss, train_acc \u001b[38;5;241m=\u001b[39m train_epoch(\n\u001b[1;32m---> 30\u001b[0m         model, \u001b[43mtrain_loader\u001b[49m, optimizer, criterion, device\n\u001b[0;32m     31\u001b[0m     )\n\u001b[0;32m     33\u001b[0m     \u001b[38;5;66;03m# Save checkpoint\u001b[39;00m\n\u001b[0;32m     34\u001b[0m     torch\u001b[38;5;241m.\u001b[39msave(\n\u001b[0;32m     35\u001b[0m         model\u001b[38;5;241m.\u001b[39mstate_dict(),\n\u001b[0;32m     36\u001b[0m         \u001b[38;5;124mf\u001b[39m\u001b[38;5;124m\"\u001b[39m\u001b[38;5;124mvit_plant_disease_epoch_\u001b[39m\u001b[38;5;132;01m{\u001b[39;00mepoch\u001b[38;5;241m+\u001b[39m\u001b[38;5;241m1\u001b[39m\u001b[38;5;132;01m}\u001b[39;00m\u001b[38;5;124m.pt\u001b[39m\u001b[38;5;124m\"\u001b[39m\n\u001b[0;32m     37\u001b[0m     )\n",
      "\u001b[1;31mNameError\u001b[0m: name 'train_loader' is not defined"
     ]
    }
   ],
   "source": [
    "## 8. Training Loop\n",
    "\n",
    "# %%\n",
    "def train_epoch(model, loader, optimizer, criterion, device):\n",
    "    model.train()\n",
    "    total_loss = 0\n",
    "    correct = 0\n",
    "    \n",
    "    for images, labels in tqdm(loader, desc=\"Training\"):\n",
    "        images = images.to(device)\n",
    "        labels = labels.to(device)\n",
    "        \n",
    "        optimizer.zero_grad()\n",
    "        outputs = model(images).logits\n",
    "        loss = criterion(outputs, labels)\n",
    "        loss.backward()\n",
    "        optimizer.step()\n",
    "        \n",
    "        total_loss += loss.item()\n",
    "        correct += (outputs.argmax(1) == labels).sum().item()\n",
    "    \n",
    "    avg_loss = total_loss / len(loader)\n",
    "    accuracy = 100 * correct / len(loader.dataset)\n",
    "    return avg_loss, accuracy\n",
    "\n",
    "# %%\n",
    "# Training execution\n",
    "for epoch in range(EPOCHS):\n",
    "    train_loss, train_acc = train_epoch(\n",
    "        model, train_loader, optimizer, criterion, device\n",
    "    )\n",
    "    \n",
    "    # Save checkpoint\n",
    "    torch.save(\n",
    "        model.state_dict(),\n",
    "        f\"vit_plant_disease_epoch_{epoch+1}.pt\"\n",
    "    )\n",
    "    \n",
    "    print(f\"Epoch {epoch+1}/{EPOCHS}\")\n",
    "    print(f\"Train Loss: {train_loss:.4f} | Accuracy: {train_acc:.2f}%\")\n",
    "    print(\"------------------------------\")\n"
   ]
  },
  {
   "cell_type": "code",
   "execution_count": null,
   "id": "cf8118f2-0e19-4691-93f2-504fb0aeb9dd",
   "metadata": {},
   "outputs": [],
   "source": []
  }
 ],
 "metadata": {
  "kernelspec": {
   "display_name": "Python 3 (ipykernel)",
   "language": "python",
   "name": "python3"
  },
  "language_info": {
   "codemirror_mode": {
    "name": "ipython",
    "version": 3
   },
   "file_extension": ".py",
   "mimetype": "text/x-python",
   "name": "python",
   "nbconvert_exporter": "python",
   "pygments_lexer": "ipython3",
   "version": "3.12.2"
  }
 },
 "nbformat": 4,
 "nbformat_minor": 5
}
